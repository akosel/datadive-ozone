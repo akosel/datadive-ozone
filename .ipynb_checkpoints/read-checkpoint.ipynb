{
 "metadata": {
  "name": "",
  "signature": "sha256:0f52d3647077ac8e62cc5faf4b83e81bcc03d80858c5282ccd48dfae391f03a8"
 },
 "nbformat": 3,
 "nbformat_minor": 0,
 "worksheets": [
  {
   "cells": [
    {
     "cell_type": "code",
     "collapsed": false,
     "input": [
      "import csv\n",
      "import os\n",
      "import datetime\n",
      "import dateutil\n",
      "import pandas as pd\n",
      "import numpy as np\n",
      "import matplotlib.pyplot as plt\n",
      "\n",
      "dateFormat = '%m/%d/%Y'\n"
     ],
     "language": "python",
     "metadata": {},
     "outputs": [],
     "prompt_number": 364
    },
    {
     "cell_type": "code",
     "collapsed": false,
     "input": [
      "data = pd.read_csv('app/assets/data/all.csv', parse_dates=True, index_col=['Date'])"
     ],
     "language": "python",
     "metadata": {},
     "outputs": [],
     "prompt_number": 365
    },
    {
     "cell_type": "code",
     "collapsed": false,
     "input": [
      "def groupSumAndWrite(groupArr, aggArr=[np.sum]):\n",
      "    groupCaps = [group.capitalize() for group in groupArr]\n",
      "    groupString = ''.join(groupCaps)\n",
      "    \n",
      "    filename = ''.join(['groupBy', groupString, '.csv'])\n",
      "    path = os.path.join('app/assets/data', filename)\n",
      "    \n",
      "    groupBy = data.groupby(groupArr).aggregate(aggArr)\n",
      "    groupBy[1:].to_csv(path)\n"
     ],
     "language": "python",
     "metadata": {},
     "outputs": [],
     "prompt_number": 371
    },
    {
     "cell_type": "code",
     "collapsed": false,
     "input": [
      "data['weekday'] = data.index.weekday\n",
      "groupSumAndWrite(['weekday'])"
     ],
     "language": "python",
     "metadata": {},
     "outputs": [],
     "prompt_number": 372
    },
    {
     "cell_type": "code",
     "collapsed": false,
     "input": [
      "data['month'] = data.index.month\n",
      "data['year'] = data.index.year\n",
      "groupSumAndWrite(['year', 'month'])"
     ],
     "language": "python",
     "metadata": {},
     "outputs": [],
     "prompt_number": 367
    },
    {
     "cell_type": "code",
     "collapsed": false,
     "input": [
      "data['year'] = data.index.year\n",
      "groupSumAndWrite(['year'])"
     ],
     "language": "python",
     "metadata": {},
     "outputs": []
    },
    {
     "cell_type": "code",
     "collapsed": false,
     "input": [
      "data['month'] = data.index.month\n",
      "groupSumAndWrite(['month'])"
     ],
     "language": "python",
     "metadata": {},
     "outputs": [],
     "prompt_number": 370
    }
   ],
   "metadata": {}
  }
 ]
}