{
 "metadata": {
  "name": "",
  "signature": "sha256:087f991ccd2c6de888bd9c58cdfa3b07422d437084c1f4a4fd0e3561524dc870"
 },
 "nbformat": 3,
 "nbformat_minor": 0,
 "worksheets": [
  {
   "cells": [
    {
     "cell_type": "code",
     "collapsed": false,
     "input": [
      "import csv\n",
      "import copy\n",
      "import os\n",
      "import datetime\n",
      "import dateutil\n",
      "import pandas as pd\n",
      "import numpy as np\n",
      "import matplotlib.pyplot as plt\n",
      "\n",
      "dateFormat = '%m/%d/%Y'\n"
     ],
     "language": "python",
     "metadata": {},
     "outputs": [],
     "prompt_number": 406
    },
    {
     "cell_type": "code",
     "collapsed": false,
     "input": [
      "master = pd.read_csv('app/assets/data/all.csv', parse_dates=True, index_col=['Date'])"
     ],
     "language": "python",
     "metadata": {},
     "outputs": [],
     "prompt_number": 407
    },
    {
     "cell_type": "code",
     "collapsed": false,
     "input": [
      "def groupSumAndWrite(data, groupArr, aggregatorArr=[np.sum]):\n",
      "    groupCaps = [group.capitalize() for group in groupArr]\n",
      "    groupString = ''.join(groupCaps)\n",
      "    \n",
      "    filename = ''.join(['groupBy', groupString, '.csv'])\n",
      "    path = os.path.join('app/assets/data', filename)\n",
      "    \n",
      "    groupBy = data.groupby(groupArr).aggregate(aggregatorArr)\n",
      "    groupBy[1:].to_csv(path)\n"
     ],
     "language": "python",
     "metadata": {},
     "outputs": [],
     "prompt_number": 408
    },
    {
     "cell_type": "code",
     "collapsed": false,
     "input": [
      "data = copy.deepcopy(master)\n",
      "\n",
      "data['weekday'] = data.index.weekday\n",
      "groupSumAndWrite(data, ['weekday'])"
     ],
     "language": "python",
     "metadata": {},
     "outputs": [],
     "prompt_number": 409
    },
    {
     "cell_type": "code",
     "collapsed": false,
     "input": [
      "data = copy.deepcopy(master)\n",
      "\n",
      "data['month'] = data.index.month\n",
      "data['year'] = data.index.year\n",
      "groupSumAndWrite(data, ['year', 'month'])"
     ],
     "language": "python",
     "metadata": {},
     "outputs": [],
     "prompt_number": 410
    },
    {
     "cell_type": "code",
     "collapsed": false,
     "input": [
      "data = copy.deepcopy(master)\n",
      "\n",
      "data['year'] = data.index.year\n",
      "groupSumAndWrite(data, ['year'])"
     ],
     "language": "python",
     "metadata": {},
     "outputs": [],
     "prompt_number": 411
    },
    {
     "cell_type": "code",
     "collapsed": false,
     "input": [
      "data = copy.deepcopy(master)\n",
      "\n",
      "data['month'] = data.index.month\n",
      "groupSumAndWrite(data, ['month'])"
     ],
     "language": "python",
     "metadata": {},
     "outputs": [],
     "prompt_number": 412
    },
    {
     "cell_type": "code",
     "collapsed": false,
     "input": [
      "data = copy.deepcopy(master)\n",
      "\n",
      "data['week'] = data.index.week\n",
      "groupSumAndWrite(data, ['week'])"
     ],
     "language": "python",
     "metadata": {},
     "outputs": [],
     "prompt_number": 413
    },
    {
     "cell_type": "code",
     "collapsed": false,
     "input": [
      "# http://pandas.pydata.org/pandas-docs/version/0.15.0/generated/pandas.DatetimeIndex.html\n",
      "# the link above is an extremely useful resource for finding what\n",
      "# options are available for grouping"
     ],
     "language": "python",
     "metadata": {},
     "outputs": [],
     "prompt_number": 414
    }
   ],
   "metadata": {}
  }
 ]
}