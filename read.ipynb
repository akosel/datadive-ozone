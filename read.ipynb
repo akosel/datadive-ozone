{
 "metadata": {
  "name": "",
  "signature": "sha256:64d496b2d9d8a659dbcaa5a484250058d6acad60e6288685fbfe9315b48a5aa6"
 },
 "nbformat": 3,
 "nbformat_minor": 0,
 "worksheets": [
  {
   "cells": [
    {
     "cell_type": "code",
     "collapsed": false,
     "input": [
      "import csv\n",
      "import os\n",
      "import datetime\n",
      "import dateutil\n",
      "import pandas as pd\n",
      "import numpy as np\n",
      "import matplotlib.pyplot as plt\n",
      "\n",
      "dateFormat = '%m/%d/%Y'\n"
     ],
     "language": "python",
     "metadata": {},
     "outputs": [],
     "prompt_number": 348
    },
    {
     "cell_type": "code",
     "collapsed": false,
     "input": [
      "data = pd.read_csv('app/assets/data/all.csv', parse_dates=True, index_col=['Date'])"
     ],
     "language": "python",
     "metadata": {},
     "outputs": [
      {
       "output_type": "stream",
       "stream": "stderr",
       "text": [
        "/usr/local/lib/python2.7/site-packages/pandas/io/parsers.py:1150: DtypeWarning: Columns (9,81) have mixed types. Specify dtype option on import or set low_memory=False.\n",
        "  data = self._reader.read(nrows)\n"
       ]
      }
     ],
     "prompt_number": 349
    },
    {
     "cell_type": "code",
     "collapsed": false,
     "input": [
      "data['day'] = data.index.day\n",
      "data['month'] = data.index.month\n",
      "data['weekday'] = data.index.weekday\n",
      "data['year'] = data.index.year\n",
      "\n"
     ],
     "language": "python",
     "metadata": {},
     "outputs": [],
     "prompt_number": 350
    },
    {
     "cell_type": "code",
     "collapsed": false,
     "input": [
      "def groupSumAndWrite(groupArr):\n",
      "    groupCaps = [group.capitalize() for group in groupArr]\n",
      "    groupString = ''.join(groupCaps)\n",
      "    \n",
      "    filename = ''.join(['groupBy', groupString, '.csv'])\n",
      "    path = os.path.join('app/assets/data', filename)\n",
      "    \n",
      "    groupBy = data.groupby(groupArr).aggregate(np.sum)\n",
      "    groupBy[1:].to_csv(path)\n",
      "\n",
      "groupSumAndWrite(['year', 'month'])\n",
      "groupSumAndWrite(['weekday'])"
     ],
     "language": "python",
     "metadata": {},
     "outputs": [],
     "prompt_number": 351
    },
    {
     "cell_type": "code",
     "collapsed": false,
     "input": [],
     "language": "python",
     "metadata": {},
     "outputs": [],
     "prompt_number": 351
    },
    {
     "cell_type": "code",
     "collapsed": false,
     "input": [],
     "language": "python",
     "metadata": {},
     "outputs": [],
     "prompt_number": 351
    },
    {
     "cell_type": "markdown",
     "metadata": {},
     "source": []
    },
    {
     "cell_type": "code",
     "collapsed": false,
     "input": [
      "data.index.month"
     ],
     "language": "python",
     "metadata": {},
     "outputs": [
      {
       "metadata": {},
       "output_type": "pyout",
       "prompt_number": 352,
       "text": [
        "array([8, 8, 8, ..., 9, 9, 9], dtype=int32)"
       ]
      }
     ],
     "prompt_number": 352
    }
   ],
   "metadata": {}
  }
 ]
}