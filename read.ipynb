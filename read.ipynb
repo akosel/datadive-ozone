{
 "metadata": {
  "name": "",
  "signature": "sha256:1cbb6a113f441f0af7ae316927519919b10886d9694142fe6d9937fa6b9ab8b5"
 },
 "nbformat": 3,
 "nbformat_minor": 0,
 "worksheets": [
  {
   "cells": [
    {
     "cell_type": "code",
     "collapsed": false,
     "input": [
      "import csv\n",
      "import copy\n",
      "import os\n",
      "import datetime\n",
      "import dateutil\n",
      "import pandas as pd\n",
      "import numpy as np\n",
      "import matplotlib.pyplot as plt\n",
      "\n",
      "dateFormat = '%m/%d/%Y'\n"
     ],
     "language": "python",
     "metadata": {},
     "outputs": [],
     "prompt_number": 466
    },
    {
     "cell_type": "code",
     "collapsed": false,
     "input": [
      "master = pd.read_csv('public/data/all.csv', parse_dates=True, index_col=['Date'])"
     ],
     "language": "python",
     "metadata": {},
     "outputs": [],
     "prompt_number": 467
    },
    {
     "cell_type": "code",
     "collapsed": false,
     "input": [
      "def groupSumAndWrite(dataset, groupArr, aggregatorArr=[np.sum]):\n",
      "    groupCaps = [group.capitalize() for group in groupArr]\n",
      "    groupString = ''.join(groupCaps)\n",
      "    \n",
      "    filename = ''.join(['groupBy', groupString, '.csv'])\n",
      "    path = os.path.join('public/data', filename)\n",
      "    \n",
      "    groupBy = dataset.groupby(groupArr).aggregate(aggregatorArr[0])\n",
      "    groupBy[1:].to_csv(path)\n"
     ],
     "language": "python",
     "metadata": {},
     "outputs": [],
     "prompt_number": 468
    },
    {
     "cell_type": "code",
     "collapsed": false,
     "input": [
      "data = copy.deepcopy(master)\n",
      "\n",
      "data['weekday'] = data.index.weekday\n",
      "groupSumAndWrite(data, ['weekday'])"
     ],
     "language": "python",
     "metadata": {},
     "outputs": [],
     "prompt_number": 469
    },
    {
     "cell_type": "code",
     "collapsed": false,
     "input": [
      "data = copy.deepcopy(master)\n",
      "\n",
      "data['weekday'] = data.index.weekday\n",
      "data['year'] = data.index.year\n",
      "groupSumAndWrite(data, ['year', 'weekday'])"
     ],
     "language": "python",
     "metadata": {},
     "outputs": [],
     "prompt_number": 470
    },
    {
     "cell_type": "code",
     "collapsed": false,
     "input": [
      "data = copy.deepcopy(master)\n",
      "\n",
      "data['month'] = data.index.month\n",
      "data['year'] = data.index.year\n",
      "groupSumAndWrite(data, ['year', 'month'], [np.sum, np.mean])"
     ],
     "language": "python",
     "metadata": {},
     "outputs": [],
     "prompt_number": 479
    },
    {
     "cell_type": "code",
     "collapsed": false,
     "input": [
      "data = copy.deepcopy(master)\n",
      "\n",
      "data['week'] = data.index.week\n",
      "data['year'] = data.index.year\n",
      "groupSumAndWrite(data, ['year', 'week'])"
     ],
     "language": "python",
     "metadata": {},
     "outputs": [],
     "prompt_number": 476
    },
    {
     "cell_type": "code",
     "collapsed": false,
     "input": [
      "data = copy.deepcopy(master)\n",
      "\n",
      "data['year'] = data.index.year\n",
      "groupSumAndWrite(data, ['year'])"
     ],
     "language": "python",
     "metadata": {},
     "outputs": [],
     "prompt_number": 472
    },
    {
     "cell_type": "code",
     "collapsed": false,
     "input": [
      "data = copy.deepcopy(master)\n",
      "\n",
      "data['month'] = data.index.month\n",
      "groupSumAndWrite(data, ['month'])"
     ],
     "language": "python",
     "metadata": {},
     "outputs": [],
     "prompt_number": 473
    },
    {
     "cell_type": "code",
     "collapsed": false,
     "input": [
      "data = copy.deepcopy(master)\n",
      "\n",
      "data['week'] = data.index.week\n",
      "groupSumAndWrite(data, ['week'])"
     ],
     "language": "python",
     "metadata": {},
     "outputs": [],
     "prompt_number": 474
    },
    {
     "cell_type": "code",
     "collapsed": false,
     "input": [
      "data = copy.deepcopy(master)\n",
      "\n",
      "data['month'] = data.index.month\n",
      "data['year'] = data.index.year\n",
      "groupSumAndWrite(data, ['year', 'month'])"
     ],
     "language": "python",
     "metadata": {},
     "outputs": []
    },
    {
     "cell_type": "code",
     "collapsed": false,
     "input": [
      "len(master.index)"
     ],
     "language": "python",
     "metadata": {},
     "outputs": [
      {
       "metadata": {},
       "output_type": "pyout",
       "prompt_number": 477,
       "text": [
        "11311"
       ]
      }
     ],
     "prompt_number": 477
    },
    {
     "cell_type": "code",
     "collapsed": false,
     "input": [
      "# http://pandas.pydata.org/pandas-docs/version/0.15.0/generated/pandas.DatetimeIndex.html\n",
      "# the link above is an extremely useful resource for finding what\n",
      "# options are available for grouping"
     ],
     "language": "python",
     "metadata": {},
     "outputs": [],
     "prompt_number": 475
    }
   ],
   "metadata": {}
  }
 ]
}