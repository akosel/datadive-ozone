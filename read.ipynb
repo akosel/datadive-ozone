{
 "metadata": {
  "name": "",
  "signature": "sha256:cc0700643e4ada0fa717babef9a10f9dcd217423161be2a9fafaa3b11f86b7eb"
 },
 "nbformat": 3,
 "nbformat_minor": 0,
 "worksheets": [
  {
   "cells": [
    {
     "cell_type": "code",
     "collapsed": false,
     "input": [
      "import csv\n",
      "import copy\n",
      "import os\n",
      "import datetime\n",
      "import dateutil\n",
      "import pandas as pd\n",
      "import numpy as np\n",
      "import matplotlib.pyplot as plt\n",
      "\n",
      "dateFormat = '%m/%d/%Y'\n"
     ],
     "language": "python",
     "metadata": {},
     "outputs": [],
     "prompt_number": 579
    },
    {
     "cell_type": "code",
     "collapsed": false,
     "input": [
      "np.sum.__name__.capitalize()\n"
     ],
     "language": "python",
     "metadata": {},
     "outputs": [
      {
       "metadata": {},
       "output_type": "pyout",
       "prompt_number": 580,
       "text": [
        "'Sum'"
       ]
      }
     ],
     "prompt_number": 580
    },
    {
     "cell_type": "code",
     "collapsed": false,
     "input": [
      "master = pd.read_csv('public/data/all.csv', parse_dates=True, index_col=['Date'])\n",
      "master = master.fillna(0)\n"
     ],
     "language": "python",
     "metadata": {},
     "outputs": [],
     "prompt_number": 581
    },
    {
     "cell_type": "code",
     "collapsed": false,
     "input": [
      "def groupAggAndWrite(dataset, groupArr, aggregatorArr=[np.sum, np.mean]):\n",
      "    groupCaps = [group.capitalize() for group in groupArr]\n",
      "    groupString = ''.join(groupCaps)\n",
      "    \n",
      "    for agg in aggregatorArr:\n",
      "        filename = ''.join(['groupBy', groupString, agg.__name__.capitalize(), '.csv'])\n",
      "        path = os.path.join('public/data', filename)\n",
      "\n",
      "        groupBy = dataset.groupby(groupArr).aggregate(agg)\n",
      "        groupBy[1:].to_csv(path)\n",
      "    "
     ],
     "language": "python",
     "metadata": {},
     "outputs": [],
     "prompt_number": 582
    },
    {
     "cell_type": "code",
     "collapsed": false,
     "input": [
      "data = copy.deepcopy(master)\n",
      "\n",
      "data['weekday'] = data.index.weekday\n",
      "groupAggAndWrite(data, ['weekday'])"
     ],
     "language": "python",
     "metadata": {},
     "outputs": [],
     "prompt_number": 583
    },
    {
     "cell_type": "code",
     "collapsed": false,
     "input": [
      "data = copy.deepcopy(master)\n",
      "\n",
      "data['weekday'] = data.index.weekday\n",
      "data['year'] = data.index.year\n",
      "groupAggAndWrite(data, ['year', 'weekday'])"
     ],
     "language": "python",
     "metadata": {},
     "outputs": [],
     "prompt_number": 584
    },
    {
     "cell_type": "code",
     "collapsed": false,
     "input": [
      "data = copy.deepcopy(master)\n",
      "\n",
      "data['week'] = data.index.week\n",
      "data['year'] = data.index.year\n",
      "groupAggAndWrite(data, ['year', 'week'])"
     ],
     "language": "python",
     "metadata": {},
     "outputs": [],
     "prompt_number": 585
    },
    {
     "cell_type": "code",
     "collapsed": false,
     "input": [
      "data = copy.deepcopy(master)\n",
      "\n",
      "data['year'] = data.index.year\n",
      "groupAggAndWrite(data, ['year'])"
     ],
     "language": "python",
     "metadata": {},
     "outputs": [],
     "prompt_number": 586
    },
    {
     "cell_type": "code",
     "collapsed": false,
     "input": [
      "data = copy.deepcopy(master)\n",
      "\n",
      "data['month'] = data.index.month\n",
      "groupAggAndWrite(data, ['month'])"
     ],
     "language": "python",
     "metadata": {},
     "outputs": [],
     "prompt_number": 587
    },
    {
     "cell_type": "code",
     "collapsed": false,
     "input": [
      "data = copy.deepcopy(master)\n",
      "\n",
      "data['week'] = data.index.week\n",
      "groupAggAndWrite(data, ['week'])"
     ],
     "language": "python",
     "metadata": {},
     "outputs": [],
     "prompt_number": 588
    },
    {
     "cell_type": "code",
     "collapsed": false,
     "input": [
      "data = copy.deepcopy(master)\n",
      "\n",
      "data['month'] = data.index.month\n",
      "data['year'] = data.index.year\n",
      "groupAggAndWrite(data, ['year', 'month'])"
     ],
     "language": "python",
     "metadata": {},
     "outputs": [],
     "prompt_number": 589
    },
    {
     "cell_type": "code",
     "collapsed": false,
     "input": [
      "master.count()"
     ],
     "language": "python",
     "metadata": {},
     "outputs": [
      {
       "metadata": {},
       "output_type": "pyout",
       "prompt_number": 590,
       "text": [
        "R                                     11311\n",
        "H                                     11311\n",
        "T                                     11311\n",
        "T9-1                                  11311\n",
        "T1-5                                  11311\n",
        "T5-8                                  11311\n",
        "T8-9                                  11311\n",
        "Age                                   11311\n",
        "Minutes                               11311\n",
        "HAOHFamily                            11311\n",
        "HAOHFriend                            11311\n",
        "HAOHSchool                            11311\n",
        "HAOHAdvertisement/Poster/Helpcard     11311\n",
        "HAOHOzone Staff                       11311\n",
        "HAOHPolice/Court/Probation Officer    11311\n",
        "...\n",
        "ISIDOn the street                   11311\n",
        "ISIDDomestic Violence               11311\n",
        "ISIDOther                           11311\n",
        "SafetyPlan                          11311\n",
        "AnxietyStart                        11311\n",
        "AnxietyEnd                          11311\n",
        "Increase                            11311\n",
        "Decrease                            11311\n",
        "No Change                           11311\n",
        "PositiveChange                      11311\n",
        "CallsInCrisis                       11311\n",
        "CallsInCrisisw/SP                   11311\n",
        "Intake Scheduled                    11311\n",
        "# of Referrals Given                11311\n",
        "# of Attached CPS 3200 Referrals    11311\n",
        "Length: 85, dtype: int64"
       ]
      }
     ],
     "prompt_number": 590
    },
    {
     "cell_type": "code",
     "collapsed": false,
     "input": [
      "# http://pandas.pydata.org/pandas-docs/version/0.15.0/generated/pandas.DatetimeIndex.html\n",
      "# the link above is an extremely useful resource for finding what\n",
      "# options are available for grouping"
     ],
     "language": "python",
     "metadata": {},
     "outputs": [],
     "prompt_number": 591
    }
   ],
   "metadata": {}
  }
 ]
}