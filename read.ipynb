{
 "metadata": {
  "name": "",
  "signature": "sha256:b1c035aaa58cf2ef6fb91aa1eb4fc05aa4706f9c4c5f8e21717a3a7d48fc01f1"
 },
 "nbformat": 3,
 "nbformat_minor": 0,
 "worksheets": [
  {
   "cells": [
    {
     "cell_type": "code",
     "collapsed": false,
     "input": [
      "import csv\n",
      "import os\n",
      "import datetime\n",
      "import dateutil\n",
      "import pandas as pd\n",
      "import numpy as np\n",
      "import matplotlib.pyplot as plt\n",
      "\n",
      "dateFormat = '%m/%d/%Y'\n"
     ],
     "language": "python",
     "metadata": {},
     "outputs": [],
     "prompt_number": 364
    },
    {
     "cell_type": "code",
     "collapsed": false,
     "input": [
      "data = pd.read_csv('app/assets/data/all.csv', parse_dates=True, index_col=['Date'])"
     ],
     "language": "python",
     "metadata": {},
     "outputs": [],
     "prompt_number": 365
    },
    {
     "cell_type": "code",
     "collapsed": false,
     "input": [
      "def groupSumAndWrite(groupArr, aggregatorArr=[np.sum]):\n",
      "    groupCaps = [group.capitalize() for group in groupArr]\n",
      "    groupString = ''.join(groupCaps)\n",
      "    \n",
      "    filename = ''.join(['groupBy', groupString, '.csv'])\n",
      "    path = os.path.join('app/assets/data', filename)\n",
      "    \n",
      "    groupBy = data.groupby(groupArr).aggregate(aggregatorArr)\n",
      "    groupBy[1:].to_csv(path)\n"
     ],
     "language": "python",
     "metadata": {},
     "outputs": [],
     "prompt_number": 373
    },
    {
     "cell_type": "code",
     "collapsed": false,
     "input": [
      "data['weekday'] = data.index.weekday\n",
      "groupSumAndWrite(['weekday'])"
     ],
     "language": "python",
     "metadata": {},
     "outputs": [],
     "prompt_number": 372
    },
    {
     "cell_type": "code",
     "collapsed": false,
     "input": [
      "data['month'] = data.index.month\n",
      "data['year'] = data.index.year\n",
      "groupSumAndWrite(['year', 'month'])"
     ],
     "language": "python",
     "metadata": {},
     "outputs": [],
     "prompt_number": 367
    },
    {
     "cell_type": "code",
     "collapsed": false,
     "input": [
      "data['year'] = data.index.year\n",
      "groupSumAndWrite(['year'])"
     ],
     "language": "python",
     "metadata": {},
     "outputs": []
    },
    {
     "cell_type": "code",
     "collapsed": false,
     "input": [
      "data['month'] = data.index.month\n",
      "groupSumAndWrite(['month'])"
     ],
     "language": "python",
     "metadata": {},
     "outputs": [],
     "prompt_number": 370
    },
    {
     "cell_type": "code",
     "collapsed": false,
     "input": [
      "# http://pandas.pydata.org/pandas-docs/version/0.15.0/generated/pandas.DatetimeIndex.html\n",
      "# the link above is an extremely useful resource for finding what\n",
      "# options are available for grouping"
     ],
     "language": "python",
     "metadata": {},
     "outputs": []
    }
   ],
   "metadata": {}
  }
 ]
}